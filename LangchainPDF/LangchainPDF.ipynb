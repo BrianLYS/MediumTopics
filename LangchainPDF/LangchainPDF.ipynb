{
 "cells": [
  {
   "cell_type": "code",
   "execution_count": null,
   "metadata": {},
   "outputs": [],
   "source": [
    "_ = !pip install openai\n",
    "_ = !pip install langchain \n",
    "_ = !pip install Cython\n",
    "_ = !pip install chromadb\n",
    "_ = !pip install unstructured \"unstructured[local-inference]\"\n",
    "_ = !CC=clang CXX=clang++ ARCHFLAGS=\"-arch x86_64\" pip install 'git+https://github.com/facebookresearch/detectron2.git'\n",
    "_ = !apt-get install poppler-utils "
   ]
  },
  {
   "cell_type": "code",
   "execution_count": null,
   "metadata": {},
   "outputs": [],
   "source": [
    "import os\n",
    "from langchain.document_loaders import UnstructuredPDFLoader\n",
    "from langchain.indexes import VectorstoreIndexCreator\n",
    "from detectron2.config import get_cfg"
   ]
  },
  {
   "cell_type": "code",
   "execution_count": null,
   "metadata": {},
   "outputs": [],
   "source": [
    "cfg = get_cfg()    \n",
    "cfg.MODEL.DEVICE = 'cpu'\n",
    "\n",
    "# insert your OPENAI API key under here\n",
    "os.environ['OPENAI_API_KEY'] = ''\n",
    "\n",
    "pdf_folder_name = 'PDF'\n",
    "\n",
    "def create_pdf_loaders(pdf_folder_name):\n",
    "    loaders = []\n",
    "    for i in os.listdir(pdf_folder_name):\n",
    "        file_path = os.path.join(pdf_folder_name, i)\n",
    "        loader = UnstructuredPDFLoader(file_path)\n",
    "        loaders.append(loader)\n",
    "    return loaders\n",
    "\n",
    "loaders = create_pdf_loaders(pdf_folder_name)\n",
    "print(loaders)"
   ]
  },
  {
   "cell_type": "code",
   "execution_count": null,
   "metadata": {},
   "outputs": [],
   "source": [
    "index = VectorstoreIndexCreator().from_loaders(loaders)"
   ]
  },
  {
   "cell_type": "code",
   "execution_count": null,
   "metadata": {},
   "outputs": [],
   "source": [
    "query = \"What is the name of the book I just fed you?\"\n",
    "index.query(query)"
   ]
  },
  {
   "cell_type": "code",
   "execution_count": null,
   "metadata": {},
   "outputs": [],
   "source": [
    "query = \"Tell me one of the things every programmer should know.\"\n",
    "index.query(query)"
   ]
  },
  {
   "cell_type": "code",
   "execution_count": null,
   "metadata": {},
   "outputs": [],
   "source": [
    "query = \"Who is the author of the book?\"\n",
    "index.query(query)"
   ]
  },
  {
   "cell_type": "code",
   "execution_count": null,
   "metadata": {},
   "outputs": [],
   "source": [
    "query = \"What did Chuck Allison say in the book?\"\n",
    "index.query(query)"
   ]
  }
 ],
 "metadata": {
  "language_info": {
   "name": "python"
  },
  "orig_nbformat": 4
 },
 "nbformat": 4,
 "nbformat_minor": 2
}
